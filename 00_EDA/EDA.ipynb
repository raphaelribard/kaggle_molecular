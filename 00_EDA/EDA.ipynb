{
 "cells": [
  {
   "cell_type": "code",
   "execution_count": 14,
   "metadata": {},
   "outputs": [],
   "source": [
    "import pandas as pd\n",
    "import numpy as np\n",
    "\n",
    "import matplotlib.pyplot as plt\n",
    "import seaborn as sns\n",
    "from tqdm import tqdm_notebook"
   ]
  },
  {
   "cell_type": "code",
   "execution_count": 2,
   "metadata": {},
   "outputs": [],
   "source": [
    "file_folder = '../data'"
   ]
  },
  {
   "cell_type": "code",
   "execution_count": 3,
   "metadata": {},
   "outputs": [
    {
     "name": "stdout",
     "output_type": "stream",
     "text": [
      "There are 4658147 in train df\n",
      "There are 2505542 in test df\n",
      "There are 2358657 in structures df\n"
     ]
    }
   ],
   "source": [
    "train = pd.read_csv(f'{file_folder}/train.csv.zip')\n",
    "test = pd.read_csv(f'{file_folder}/test.csv.zip')\n",
    "structures = pd.read_csv(f'{file_folder}/structures.csv.zip')\n",
    "\n",
    "print(f'There are {train.shape[0]} in train df')\n",
    "print(f'There are {test.shape[0]} in test df')\n",
    "print(f'There are {structures.shape[0]} in structures df')"
   ]
  },
  {
   "cell_type": "code",
   "execution_count": 4,
   "metadata": {},
   "outputs": [
    {
     "name": "stdout",
     "output_type": "stream",
     "text": [
      "   id     molecule_name  atom_index_0  atom_index_1  type  \\\n",
      "0   0  dsgdb9nsd_000001             1             0  1JHC   \n",
      "1   1  dsgdb9nsd_000001             1             2  2JHH   \n",
      "2   2  dsgdb9nsd_000001             1             3  2JHH   \n",
      "3   3  dsgdb9nsd_000001             1             4  2JHH   \n",
      "4   4  dsgdb9nsd_000001             2             0  1JHC   \n",
      "\n",
      "   scalar_coupling_constant  \n",
      "0                   84.8076  \n",
      "1                  -11.2570  \n",
      "2                  -11.2548  \n",
      "3                  -11.2543  \n",
      "4                   84.8074  \n",
      "---------------\n",
      "        id     molecule_name  atom_index_0  atom_index_1  type\n",
      "0  4658147  dsgdb9nsd_000004             2             0  2JHC\n",
      "1  4658148  dsgdb9nsd_000004             2             1  1JHC\n",
      "2  4658149  dsgdb9nsd_000004             2             3  3JHH\n",
      "3  4658150  dsgdb9nsd_000004             3             0  1JHC\n",
      "4  4658151  dsgdb9nsd_000004             3             1  2JHC\n",
      "---------------\n",
      "      molecule_name  atom_index atom         x         y         z\n",
      "0  dsgdb9nsd_000001           0    C -0.012698  1.085804  0.008001\n",
      "1  dsgdb9nsd_000001           1    H  0.002150 -0.006031  0.001976\n",
      "2  dsgdb9nsd_000001           2    H  1.011731  1.463751  0.000277\n",
      "3  dsgdb9nsd_000001           3    H -0.540815  1.447527 -0.876644\n",
      "4  dsgdb9nsd_000001           4    H -0.523814  1.437933  0.906397\n"
     ]
    }
   ],
   "source": [
    "print(train.head())\n",
    "print('---------------')\n",
    "print(test.head())\n",
    "print('---------------')\n",
    "print(structures.head())\n"
   ]
  },
  {
   "cell_type": "markdown",
   "metadata": {},
   "source": [
    "# Feature engineering\n",
    "\n",
    "Using the features created from \n",
    "\n",
    "    - https://www.kaggle.com/artgor/molecular-properties-eda-and-models\n",
    "    - https://www.kaggle.com/artgor/brute-force-feature-engineering\n",
    " "
   ]
  },
  {
   "cell_type": "code",
   "execution_count": 5,
   "metadata": {},
   "outputs": [],
   "source": [
    "def map_atom_info(df, atom_idx):\n",
    "    df = pd.merge(df, structures, how = 'left',\n",
    "                  left_on  = ['molecule_name', f'atom_index_{atom_idx}'],\n",
    "                  right_on = ['molecule_name',  'atom_index'])\n",
    "    \n",
    "    df = df.drop('atom_index', axis=1)\n",
    "    df = df.rename(columns={'atom': f'atom_{atom_idx}',\n",
    "                            'x': f'x_{atom_idx}',\n",
    "                            'y': f'y_{atom_idx}',\n",
    "                            'z': f'z_{atom_idx}'})\n",
    "    return df\n",
    "\n",
    "train = map_atom_info(train, 0)\n",
    "train = map_atom_info(train, 1)\n",
    "\n",
    "test = map_atom_info(test, 0)\n",
    "test = map_atom_info(test, 1)"
   ]
  },
  {
   "cell_type": "code",
   "execution_count": 7,
   "metadata": {},
   "outputs": [
    {
     "name": "stdout",
     "output_type": "stream",
     "text": [
      "   id     molecule_name  atom_index_0  atom_index_1  type  \\\n",
      "0   0  dsgdb9nsd_000001             1             0  1JHC   \n",
      "1   1  dsgdb9nsd_000001             1             2  2JHH   \n",
      "2   2  dsgdb9nsd_000001             1             3  2JHH   \n",
      "3   3  dsgdb9nsd_000001             1             4  2JHH   \n",
      "4   4  dsgdb9nsd_000001             2             0  1JHC   \n",
      "\n",
      "   scalar_coupling_constant atom_0       x_0       y_0       z_0 atom_1  \\\n",
      "0                   84.8076      H  0.002150 -0.006031  0.001976      C   \n",
      "1                  -11.2570      H  0.002150 -0.006031  0.001976      H   \n",
      "2                  -11.2548      H  0.002150 -0.006031  0.001976      H   \n",
      "3                  -11.2543      H  0.002150 -0.006031  0.001976      H   \n",
      "4                   84.8074      H  1.011731  1.463751  0.000277      C   \n",
      "\n",
      "        x_1       y_1       z_1  \n",
      "0 -0.012698  1.085804  0.008001  \n",
      "1  1.011731  1.463751  0.000277  \n",
      "2 -0.540815  1.447527 -0.876644  \n",
      "3 -0.523814  1.437933  0.906397  \n",
      "4 -0.012698  1.085804  0.008001  \n",
      "---------------\n",
      "        id     molecule_name  atom_index_0  atom_index_1  type atom_0  \\\n",
      "0  4658147  dsgdb9nsd_000004             2             0  2JHC      H   \n",
      "1  4658148  dsgdb9nsd_000004             2             1  1JHC      H   \n",
      "2  4658149  dsgdb9nsd_000004             2             3  3JHH      H   \n",
      "3  4658150  dsgdb9nsd_000004             3             0  1JHC      H   \n",
      "4  4658151  dsgdb9nsd_000004             3             1  2JHC      H   \n",
      "\n",
      "        x_0  y_0  z_0 atom_1       x_1  y_1  z_1  \n",
      "0 -1.661639  0.0  1.0      C  0.599539  0.0  1.0  \n",
      "1 -1.661639  0.0  1.0      C -0.599539  0.0  1.0  \n",
      "2 -1.661639  0.0  1.0      H  1.661639  0.0  1.0  \n",
      "3  1.661639  0.0  1.0      C  0.599539  0.0  1.0  \n",
      "4  1.661639  0.0  1.0      C -0.599539  0.0  1.0  \n",
      "---------------\n",
      "      molecule_name  atom_index atom         x         y         z\n",
      "0  dsgdb9nsd_000001           0    C -0.012698  1.085804  0.008001\n",
      "1  dsgdb9nsd_000001           1    H  0.002150 -0.006031  0.001976\n",
      "2  dsgdb9nsd_000001           2    H  1.011731  1.463751  0.000277\n",
      "3  dsgdb9nsd_000001           3    H -0.540815  1.447527 -0.876644\n",
      "4  dsgdb9nsd_000001           4    H -0.523814  1.437933  0.906397\n"
     ]
    }
   ],
   "source": [
    "print(train.head())\n",
    "print('---------------')\n",
    "print(test.head())\n",
    "print('---------------')\n",
    "print(structures.head())"
   ]
  },
  {
   "cell_type": "code",
   "execution_count": 10,
   "metadata": {},
   "outputs": [],
   "source": [
    "train_p_0 = train[['x_0', 'y_0', 'z_0']].values\n",
    "train_p_1 = train[['x_1', 'y_1', 'z_1']].values\n",
    "test_p_0 = test[['x_0', 'y_0', 'z_0']].values\n",
    "test_p_1 = test[['x_1', 'y_1', 'z_1']].values\n",
    "\n",
    "train['dist'] = np.linalg.norm(train_p_0 - train_p_1, axis=1)\n",
    "test['dist'] = np.linalg.norm(test_p_0 - test_p_1, axis=1)\n",
    "train['dist_x'] = (train['x_0'] - train['x_1']) ** 2\n",
    "test['dist_x'] = (test['x_0'] - test['x_1']) ** 2\n",
    "train['dist_y'] = (train['y_0'] - train['y_1']) ** 2\n",
    "test['dist_y'] = (test['y_0'] - test['y_1']) ** 2\n",
    "train['dist_z'] = (train['z_0'] - train['z_1']) ** 2\n",
    "test['dist_z'] = (test['z_0'] - test['z_1']) ** 2"
   ]
  },
  {
   "cell_type": "code",
   "execution_count": 12,
   "metadata": {},
   "outputs": [],
   "source": [
    "train['type_0'] = train['type'].apply(lambda x: x[0])\n",
    "test['type_0'] = test['type'].apply(lambda x: x[0])\n",
    "train['type_1'] = train['type'].apply(lambda x: x[1:])\n",
    "test['type_1'] = test['type'].apply(lambda x: x[1:])"
   ]
  },
  {
   "cell_type": "code",
   "execution_count": 15,
   "metadata": {},
   "outputs": [
    {
     "data": {
      "image/png": "[encoded data removed]",
      "text/plain": [
       "<Figure size 1296x576 with 2 Axes>"
      ]
     },
     "metadata": {
      "needs_background": "light"
     },
     "output_type": "display_data"
    }
   ],
   "source": [
    "fig, ax = plt.subplots(figsize = (18, 8))\n",
    "plt.subplot(1, 2, 1);\n",
    "plt.hist(train['dist'], bins=20);\n",
    "plt.title('Basic dist_speedup histogram');\n",
    "plt.subplot(1, 2, 2);\n",
    "sns.violinplot(x='type', y='dist', data=train);\n",
    "plt.title('Violinplot of dist_speedup by type');"
   ]
  },
  {
   "cell_type": "code",
   "execution_count": 16,
   "metadata": {},
   "outputs": [],
   "source": [
    "train['dist_to_type_mean'] = train['dist'] / train.groupby('type')['dist'].transform('mean')\n",
    "test['dist_to_type_mean'] = test['dist'] / test.groupby('type')['dist'].transform('mean')\n",
    "\n",
    "train['dist_to_type_0_mean'] = train['dist'] / train.groupby('type_0')['dist'].transform('mean')\n",
    "test['dist_to_type_0_mean'] = test['dist'] / test.groupby('type_0')['dist'].transform('mean')\n",
    "\n",
    "train['dist_to_type_1_mean'] = train['dist'] / train.groupby('type_1')['dist'].transform('mean')\n",
    "test['dist_to_type_1_mean'] = test['dist'] / test.groupby('type_1')['dist'].transform('mean')"
   ]
  },
  {
   "cell_type": "code",
   "execution_count": 17,
   "metadata": {},
   "outputs": [],
   "source": [
    "train[f'molecule_type_dist_mean'] = train.groupby(['molecule_name', 'type'])['dist'].transform('mean')\n",
    "test[f'molecule_type_dist_mean'] = test.groupby(['molecule_name', 'type'])['dist'].transform('mean')"
   ]
  }
 ],
 "metadata": {
  "kernelspec": {
   "display_name": "Python 3",
   "language": "python",
   "name": "python3"
  },
  "language_info": {
   "codemirror_mode": {
    "name": "ipython",
    "version": 3
   },
   "file_extension": ".py",
   "mimetype": "text/x-python",
   "name": "python",
   "nbconvert_exporter": "python",
   "pygments_lexer": "ipython3",
   "version": "3.7.3"
  }
 },
 "nbformat": 4,
 "nbformat_minor": 2
}
